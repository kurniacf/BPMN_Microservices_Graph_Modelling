{
 "cells": [
  {
   "metadata": {},
   "cell_type": "markdown",
   "source": "# Leveraging Neo4j for Service Identification and Microservices Partitioning in Business Process Systems",
   "id": "e2578c7706d2182b"
  },
  {
   "metadata": {},
   "cell_type": "markdown",
   "source": "# 1. Install Required Libraries",
   "id": "c5e11652e32c8c49"
  },
  {
   "metadata": {
    "ExecuteTime": {
     "end_time": "2024-10-17T16:05:09.638835Z",
     "start_time": "2024-10-17T16:05:06.421853Z"
    }
   },
   "cell_type": "code",
   "source": "!pip install neo4j torch",
   "id": "b340ee6440d5ba07",
   "outputs": [
    {
     "name": "stdout",
     "output_type": "stream",
     "text": [
      "Requirement already satisfied: neo4j in c:\\users\\asus\\.conda\\envs\\cuda_env\\lib\\site-packages (5.25.0)\n",
      "Requirement already satisfied: torch in c:\\users\\asus\\.conda\\envs\\cuda_env\\lib\\site-packages (2.5.0)\n",
      "Requirement already satisfied: pytz in c:\\users\\asus\\.conda\\envs\\cuda_env\\lib\\site-packages (from neo4j) (2024.1)\n",
      "Requirement already satisfied: filelock in c:\\users\\asus\\.conda\\envs\\cuda_env\\lib\\site-packages (from torch) (3.13.1)\n",
      "Requirement already satisfied: typing-extensions>=4.8.0 in c:\\users\\asus\\.conda\\envs\\cuda_env\\lib\\site-packages (from torch) (4.11.0)\n",
      "Requirement already satisfied: setuptools in c:\\users\\asus\\.conda\\envs\\cuda_env\\lib\\site-packages (from torch) (75.1.0)\n",
      "Requirement already satisfied: sympy==1.13.1 in c:\\users\\asus\\.conda\\envs\\cuda_env\\lib\\site-packages (from torch) (1.13.1)\n",
      "Requirement already satisfied: networkx in c:\\users\\asus\\.conda\\envs\\cuda_env\\lib\\site-packages (from torch) (3.2.1)\n",
      "Requirement already satisfied: jinja2 in c:\\users\\asus\\.conda\\envs\\cuda_env\\lib\\site-packages (from torch) (3.1.4)\n",
      "Requirement already satisfied: fsspec in c:\\users\\asus\\.conda\\envs\\cuda_env\\lib\\site-packages (from torch) (2024.9.0)\n",
      "Requirement already satisfied: mpmath<1.4,>=1.1.0 in c:\\users\\asus\\.conda\\envs\\cuda_env\\lib\\site-packages (from sympy==1.13.1->torch) (1.3.0)\n",
      "Requirement already satisfied: MarkupSafe>=2.0 in c:\\users\\asus\\.conda\\envs\\cuda_env\\lib\\site-packages (from jinja2->torch) (2.1.3)\n"
     ]
    }
   ],
   "execution_count": 117
  },
  {
   "metadata": {},
   "cell_type": "markdown",
   "source": "# 2. Import Libraries",
   "id": "28acb4fd215d74fa"
  },
  {
   "metadata": {},
   "cell_type": "markdown",
   "source": "Import all necessary libraries for XML parsing, Neo4j interaction, GPU detection, and concurrent processing.",
   "id": "a0988a15e8183b38"
  },
  {
   "metadata": {},
   "cell_type": "code",
   "source": [
    "# Import Libraries\n",
    "import xml.etree.ElementTree as ET\n",
    "from neo4j import GraphDatabase\n",
    "import os\n",
    "import re\n",
    "import html\n",
    "import torch \n",
    "from concurrent.futures import ThreadPoolExecutor\n",
    "import uuid"
   ],
   "id": "7581d31b1ca3fd40",
   "outputs": [],
   "execution_count": 2
  },
  {
   "metadata": {},
   "cell_type": "markdown",
   "source": "# 3. Check CUDA Availability",
   "id": "53b492ec095105f8"
  },
  {
   "metadata": {},
   "cell_type": "markdown",
   "source": "Detect whether CUDA (GPU) is available on your system. This information will be printed at the beginning of the notebook.",
   "id": "72724475b99dae5f"
  },
  {
   "metadata": {
    "ExecuteTime": {
     "end_time": "2024-10-18T02:25:20.618170Z",
     "start_time": "2024-10-18T02:25:20.563254Z"
    }
   },
   "cell_type": "code",
   "source": [
    "print(f\"CUDA available: {torch.cuda.is_available()}\")\n",
    "print(f\"CUDA version: {torch.version.cuda}\")\n",
    "device = torch.device(\"cuda\" if torch.cuda.is_available() else \"cpu\")\n",
    "print(f\"Using device: {device}\")"
   ],
   "id": "b5491fde41e8f0c6",
   "outputs": [
    {
     "name": "stdout",
     "output_type": "stream",
     "text": [
      "CUDA available: True\n",
      "CUDA version: 11.8\n",
      "Using device: cuda\n"
     ]
    }
   ],
   "execution_count": 3
  },
  {
   "metadata": {
    "ExecuteTime": {
     "end_time": "2024-10-18T02:25:23.285389Z",
     "start_time": "2024-10-18T02:25:23.266259Z"
    }
   },
   "cell_type": "code",
   "source": [
    "# Function to check CUDA availability\n",
    "def check_cuda():\n",
    "    if torch.cuda.is_available():\n",
    "        print(\"CUDA is available. GPU will be used if applicable.\")\n",
    "        print(f\"Device Name: {torch.cuda.get_device_name(0)}\")\n",
    "    else:\n",
    "        print(\"CUDA is not available. Using CPU.\")\n",
    "\n",
    "# Execute CUDA check\n",
    "check_cuda()"
   ],
   "id": "c560144260782450",
   "outputs": [
    {
     "name": "stdout",
     "output_type": "stream",
     "text": [
      "CUDA is available. GPU will be used if applicable.\n",
      "Device Name: NVIDIA GeForce RTX 3060 Laptop GPU\n"
     ]
    }
   ],
   "execution_count": 4
  },
  {
   "metadata": {},
   "cell_type": "markdown",
   "source": "# 4. Define Connection to Neo4j",
   "id": "a3bf2fa13e77b950"
  },
  {
   "metadata": {
    "ExecuteTime": {
     "end_time": "2024-10-18T02:25:25.641941Z",
     "start_time": "2024-10-18T02:25:25.636055Z"
    }
   },
   "cell_type": "code",
   "source": [
    "# Neo4j connection details\n",
    "uri = \"bolt://localhost:7687\"\n",
    "username = \"neo4j\"\n",
    "password = \"170202Kcf\"\n",
    "\n",
    "# Create a driver instance\n",
    "driver = GraphDatabase.driver(uri, auth=(username, password))"
   ],
   "id": "a962809099f78c49",
   "outputs": [],
   "execution_count": 5
  },
  {
   "metadata": {
    "ExecuteTime": {
     "end_time": "2024-10-18T02:25:31.637821Z",
     "start_time": "2024-10-18T02:25:29.525505Z"
    }
   },
   "cell_type": "code",
   "source": [
    "def test_connection():\n",
    "    try:\n",
    "        with driver.session(database=\"erpbpmn\") as session:\n",
    "            result = session.run(\"RETURN 1 AS test\")\n",
    "            for record in result:\n",
    "                print(f\"Connection successful, test query result: {record['test']}\")\n",
    "    except Exception as e:\n",
    "        print(f\"Failed to connect to Neo4j: {e}\")\n",
    "\n",
    "test_connection()"
   ],
   "id": "d1cb506333c7161b",
   "outputs": [
    {
     "name": "stdout",
     "output_type": "stream",
     "text": [
      "Connection successful, test query result: 1\n"
     ]
    }
   ],
   "execution_count": 6
  },
  {
   "metadata": {},
   "cell_type": "markdown",
   "source": "# 5. Define Functions to Create Nodes and Relationships",
   "id": "11e6dc5f9451020e"
  },
  {
   "metadata": {
    "ExecuteTime": {
     "end_time": "2024-10-18T02:25:52.807505Z",
     "start_time": "2024-10-18T02:25:52.799631Z"
    }
   },
   "cell_type": "code",
   "source": [
    "# Define functions to create nodes and relationships\n",
    "def create_node(tx, label, properties):\n",
    "    color_map = {\n",
    "        'Task': '#ADD8E6',\n",
    "        'StartEvent': '#90EE90',\n",
    "        'EndEvent': '#FFB6C1',\n",
    "        'Gateway': '#FFFF00' \n",
    "    }\n",
    "    color = color_map.get(label, '#D3D3D3')\n",
    "\n",
    "    query = (\n",
    "        f\"MERGE (n:{label} {{id: $properties.id}}) \"\n",
    "        \"SET n += $properties, n.color = $color \"\n",
    "        \"RETURN n\"\n",
    "    )\n",
    "    result = tx.run(query, properties=properties, color=color)\n",
    "    return result.single()[0]\n",
    "\n",
    "def create_relationship_with_id(tx, source_id, target_id, rel_type, properties):\n",
    "    rel_color_map = {\n",
    "        'SEQUENCE_FLOW': '#A9A9A9',\n",
    "        'XOR_SPLIT': '#FF69B4',\n",
    "        'XOR_JOIN': '#4169E1',\n",
    "        'OR_SPLIT': '#FFD700',\n",
    "        'OR_JOIN': '#00CED1'\n",
    "    }\n",
    "    color = rel_color_map.get(rel_type, '#696969')\n",
    "\n",
    "    query = (\n",
    "        f\"MATCH (a {{id: $source_id}}), (b {{id: $target_id}}) \"\n",
    "        f\"MERGE (a)-[r:{rel_type} {{id: $properties.id}}]->(b) \"\n",
    "        \"SET r += $properties, r.color = $color \"\n",
    "        \"RETURN r\"\n",
    "    )\n",
    "    result = tx.run(query, source_id=source_id, target_id=target_id, properties=properties, color=color)\n",
    "    record = result.single()\n",
    "    if record:\n",
    "        return record[0]\n",
    "    else:\n",
    "        print(f\"Warning: Could not create relationship {rel_type} between {source_id} and {target_id}. One of the nodes may not exist.\")\n",
    "        return None"
   ],
   "id": "226f7b988831cd17",
   "outputs": [],
   "execution_count": 7
  },
  {
   "metadata": {},
   "cell_type": "markdown",
   "source": "# 6. Parse BPMN XML Files and Load into Neo4j",
   "id": "cb96a7682497999"
  },
  {
   "metadata": {
    "ExecuteTime": {
     "end_time": "2024-10-18T02:25:58.007523Z",
     "start_time": "2024-10-18T02:25:58.003272Z"
    }
   },
   "cell_type": "code",
   "source": [
    "# Define functions to parse BPMN XML files\n",
    "def clean_name(name):\n",
    "    name = re.sub('<[^<]+?>', '', name)\n",
    "    name = html.unescape(name)\n",
    "    return name.strip()"
   ],
   "id": "14ca57c05e4bb658",
   "outputs": [],
   "execution_count": 8
  },
  {
   "metadata": {
    "ExecuteTime": {
     "end_time": "2024-10-18T02:26:22.602448Z",
     "start_time": "2024-10-18T02:26:22.589869Z"
    }
   },
   "cell_type": "code",
   "source": [
    "def parse_drawio_bpmn_xml(file_path, level, module, activity=None):\n",
    "    tree = ET.parse(file_path)\n",
    "    root = tree.getroot()\n",
    "\n",
    "    elements = {\n",
    "        'Task': [],\n",
    "        'StartEvent': [],\n",
    "        'EndEvent': [],\n",
    "        'Gateway': []\n",
    "    }\n",
    "    flows = []\n",
    "    \n",
    "    for cell in root.findall('.//mxCell'):\n",
    "        style = cell.get('style', '').lower()\n",
    "        cell_id = cell.get('id')\n",
    "        value = clean_name(cell.get('value', ''))\n",
    "        if not value:\n",
    "            value = f\"Unnamed_{cell_id}\"\n",
    "        \n",
    "        if 'shape=mxgraph.bpmn.task' in style:\n",
    "            elements['Task'].append({'id': f\"{level}_{cell_id}\", 'name': value, 'level': level, 'module': module, 'activity': activity})\n",
    "        elif 'shape=mxgraph.bpmn.event' in style:\n",
    "            if 'outline=end' in style:\n",
    "                elements['EndEvent'].append({'id': f\"{level}_{cell_id}\", 'name': value, 'type': 'EndEvent', 'level': level, 'module': module, 'activity': activity})\n",
    "            else:\n",
    "                elements['StartEvent'].append({'id': f\"{level}_{cell_id}\", 'name': value, 'type': 'StartEvent', 'level': level, 'module': module, 'activity': activity})\n",
    "        elif 'shape=mxgraph.bpmn.gateway' in style:\n",
    "            gateway_kind = 'XOR' if 'exclusive' in style else 'OR'\n",
    "            elements['Gateway'].append({'id': f\"{level}_{cell_id}\", 'name': value, 'gateway_kind': gateway_kind, 'level': level, 'module': module, 'activity': activity})\n",
    "        elif cell.get('edge') == '1':\n",
    "            flows.append({\n",
    "                'id': f\"{level}_{cell_id}\",\n",
    "                'sourceRef': f\"{level}_{cell.get('source')}\",\n",
    "                'targetRef': f\"{level}_{cell.get('target')}\",\n",
    "                'name': value,\n",
    "                'level': level,\n",
    "                'module': module,\n",
    "                'activity': activity\n",
    "            })\n",
    "\n",
    "    return elements, flows"
   ],
   "id": "db2b84d26f2487c6",
   "outputs": [],
   "execution_count": 9
  },
  {
   "metadata": {
    "ExecuteTime": {
     "end_time": "2024-10-18T02:26:50.643434Z",
     "start_time": "2024-10-18T02:26:50.638789Z"
    }
   },
   "cell_type": "code",
   "source": [
    "# Helper function to determine the label of an element by its ID\n",
    "def get_element_by_id(elements, element_id):\n",
    "    for element_type, element_list in elements.items():\n",
    "        for element in element_list:\n",
    "            if element['id'] == element_id:\n",
    "                return element_type, element\n",
    "    return None, None"
   ],
   "id": "4ebfb83adb0b6fd7",
   "outputs": [],
   "execution_count": 10
  },
  {
   "metadata": {
    "ExecuteTime": {
     "end_time": "2024-10-18T02:27:17.506593Z",
     "start_time": "2024-10-18T02:27:17.499652Z"
    }
   },
   "cell_type": "code",
   "source": [
    "# Main function to process all BPMN files with parallel processing\n",
    "def process_gateways(elements, flows, session, level, module, activity):\n",
    "    gateways = elements.get('Gateway', [])\n",
    "    new_relationships = []\n",
    "    flows_to_remove = []\n",
    "    \n",
    "    for gateway in gateways:\n",
    "        gateway_id = gateway['id']\n",
    "        gateway_kind = gateway['gateway_kind']  # XOR or OR\n",
    "\n",
    "        # Find incoming and outgoing flows for the gateway\n",
    "        incoming_flows = [flow for flow in flows if flow['targetRef'] == gateway_id]\n",
    "        outgoing_flows = [flow for flow in flows if flow['sourceRef'] == gateway_id]\n",
    "        \n",
    "        if len(incoming_flows) == 1 and len(outgoing_flows) > 1:\n",
    "            # Split gateway\n",
    "            incoming_flow = incoming_flows[0]\n",
    "            for out_flow in outgoing_flows:\n",
    "                rel_type = f\"{gateway_kind}_SPLIT\"\n",
    "                new_relationships.append((incoming_flow['sourceRef'], out_flow['targetRef'], rel_type, out_flow['id']))\n",
    "                flows_to_remove.extend([incoming_flow['id'], out_flow['id']])\n",
    "        elif len(incoming_flows) > 1 and len(outgoing_flows) == 1:\n",
    "            # Join gateway\n",
    "            outgoing_flow = outgoing_flows[0]\n",
    "            for in_flow in incoming_flows:\n",
    "                rel_type = f\"{gateway_kind}_JOIN\"\n",
    "                new_relationships.append((in_flow['sourceRef'], outgoing_flow['targetRef'], rel_type, in_flow['id']))\n",
    "                flows_to_remove.extend([in_flow['id'], outgoing_flow['id']])\n",
    "        else:\n",
    "            # Handle other gateway types if necessary\n",
    "            continue\n",
    "\n",
    "    # Remove flows that pass through gateways\n",
    "    flows[:] = [flow for flow in flows if flow['id'] not in flows_to_remove]\n",
    "    \n",
    "    # Create new relationships\n",
    "    for source, target, rel_type, flow_id in new_relationships:\n",
    "        rel_properties = {'id': flow_id, 'name': rel_type, 'level': level, 'module': module, 'activity': activity}\n",
    "        session.write_transaction(create_relationship_with_id, source, target, rel_type, rel_properties)\n",
    "        print(f\"Created {rel_type} relationship from {source} to {target}\")"
   ],
   "id": "a6205823754eb057",
   "outputs": [],
   "execution_count": 11
  },
  {
   "metadata": {
    "ExecuteTime": {
     "end_time": "2024-10-18T02:28:20.469439Z",
     "start_time": "2024-10-18T02:28:20.459164Z"
    }
   },
   "cell_type": "code",
   "source": [
    "def process_bpmn_file(session, filename, file_path, level, module, activity):\n",
    "    print(f\"\\nProcessing {filename} at Level {level}...\")\n",
    "    elements, flows = parse_drawio_bpmn_xml(file_path, level, module, activity)\n",
    "\n",
    "    print(f\"Parsed {sum(len(v) for v in elements.values())} elements and {len(flows)} flows from {filename}\")\n",
    "\n",
    "    # Handle 'Unnamed' nodes based on level\n",
    "    if level == 1:\n",
    "        # Rename unnamed StartEvent and EndEvent\n",
    "        for event_type in ['StartEvent', 'EndEvent']:\n",
    "            for event in elements[event_type]:\n",
    "                if event['name'].startswith('Unnamed'):\n",
    "                    if event_type == 'StartEvent':\n",
    "                        event['name'] = 'Start'\n",
    "                    elif event_type == 'EndEvent':\n",
    "                        event['name'] = 'End'\n",
    "                    print(f\"Renamed {event_type} {event['id']} to {event['name']}\")\n",
    "    elif level in (2, 3):\n",
    "        # Identify unnamed nodes\n",
    "        unnamed_node_ids = []\n",
    "        for element_type, element_list in elements.items():\n",
    "            for element in element_list:\n",
    "                if element['name'].startswith('Unnamed'):\n",
    "                    unnamed_node_ids.append(element['id'])\n",
    "        \n",
    "        if unnamed_node_ids:\n",
    "            print(f\"Identified {len(unnamed_node_ids)} unnamed nodes to remove at Level {level}\")\n",
    "        \n",
    "        # For each unnamed node, adjust flows\n",
    "        for unnamed_id in unnamed_node_ids:\n",
    "            # Find incoming and outgoing flows\n",
    "            incoming_flows = [flow for flow in flows if flow['targetRef'] == unnamed_id]\n",
    "            outgoing_flows = [flow for flow in flows if flow['sourceRef'] == unnamed_id]\n",
    "            \n",
    "            # Create new SEQUENCE_FLOWs bypassing the unnamed node\n",
    "            for in_flow in incoming_flows:\n",
    "                for out_flow in outgoing_flows:\n",
    "                    new_rel_type = 'SEQUENCE_FLOW'\n",
    "                    new_rel_properties = {\n",
    "                        'id': f\"{level}_{uuid.uuid4()}\",\n",
    "                        'name': new_rel_type,\n",
    "                        'level': level,\n",
    "                        'module': module,\n",
    "                        'activity': activity\n",
    "                    }\n",
    "                    session.write_transaction(create_relationship_with_id, in_flow['sourceRef'], out_flow['targetRef'], new_rel_type, new_rel_properties)\n",
    "                    print(f\"Created {new_rel_type} relationship from {in_flow['sourceRef']} to {out_flow['targetRef']} bypassing {unnamed_id}\")\n",
    "            \n",
    "            # Remove flows connected to the unnamed node\n",
    "            flows[:] = [flow for flow in flows if flow['id'] not in [in_flow['id'] for in_flow in incoming_flows] and flow['id'] not in [out_flow['id'] for out_flow in outgoing_flows]]\n",
    "            \n",
    "            # Remove the unnamed node from elements\n",
    "            for element_type, element_list in elements.items():\n",
    "                elements[element_type] = [element for element in element_list if element['id'] != unnamed_id]\n",
    "            print(f\"Removed unnamed node {unnamed_id} and its associated flows\")\n",
    "\n",
    "    # Create nodes\n",
    "    for element_type, element_list in elements.items():\n",
    "        for element in element_list:\n",
    "            session.write_transaction(create_node, element_type, element)\n",
    "            print(f\"Created node: {element_type} with ID {element['id']} and name {element['name']}\")\n",
    "\n",
    "    # Process gateways: create direct relationships and remove gateway flows\n",
    "    process_gateways(elements, flows, session, level, module, activity)\n",
    "\n",
    "    # Create remaining sequence flows as SEQUENCE_FLOW relationships\n",
    "    for flow in flows:\n",
    "        source_id = flow['sourceRef']\n",
    "        target_id = flow['targetRef']\n",
    "        rel_properties = {'id': flow['id'], 'name': 'SEQUENCE_FLOW', 'level': level, 'module': module, 'activity': activity}\n",
    "        \n",
    "        rel_created = session.write_transaction(\n",
    "            create_relationship_with_id,\n",
    "            source_id, target_id, 'SEQUENCE_FLOW', rel_properties\n",
    "        )\n",
    "        if rel_created:\n",
    "            print(f\"Created SEQUENCE_FLOW relationship from {source_id} to {target_id}\")\n",
    "        else:\n",
    "            print(f\"Failed to create SEQUENCE_FLOW relationship from {source_id} to {target_id}\")\n",
    "\n",
    "    # Connect Start Event to the first task if level is 0\n",
    "    if level == 0:\n",
    "        start_event = next((e for e in elements['StartEvent']), None)\n",
    "        first_task = next((e for e in elements['Task']), None)\n",
    "        if start_event and first_task:\n",
    "            rel_properties = {'id': f\"{level}_start_to_first\", 'name': 'SEQUENCE_FLOW', 'level': level, 'module': module, 'activity': activity}\n",
    "            session.write_transaction(\n",
    "                create_relationship_with_id,\n",
    "                start_event['id'], first_task['id'], 'SEQUENCE_FLOW', rel_properties\n",
    "            )\n",
    "            print(f\"Connected Start Event to first task in Level 0\")"
   ],
   "id": "8e55bd38f494044c",
   "outputs": [],
   "execution_count": 13
  },
  {
   "metadata": {},
   "cell_type": "markdown",
   "source": "# 7. Main Execution",
   "id": "40aa15937a8c99ec"
  },
  {
   "metadata": {
    "ExecuteTime": {
     "end_time": "2024-10-18T02:28:32.119841Z",
     "start_time": "2024-10-18T02:28:32.114540Z"
    }
   },
   "cell_type": "code",
   "source": [
    "def verify_data_import():\n",
    "    with driver.session(database=\"erpbpmn\") as session:\n",
    "        result = session.run(\"MATCH (n) RETURN labels(n) AS Label, count(n) AS Count ORDER BY Count DESC\")\n",
    "        print(\"Node counts by label:\")\n",
    "        for record in result:\n",
    "            print(f\"{record['Label']}: {record['Count']}\")\n",
    "\n",
    "        result = session.run(\"MATCH ()-[r]->() RETURN type(r) AS RelationType, count(r) AS Count ORDER BY Count DESC\")\n",
    "        print(\"\\nRelationship counts by type:\")\n",
    "        for record in result:\n",
    "            print(f\"{record['RelationType']}: {record['Count']}\")\n",
    "\n",
    "        result = session.run(\"MATCH (n) RETURN n.level AS Level, count(n) AS Count ORDER BY Level\")\n",
    "        print(\"\\nNode counts by level:\")\n",
    "        for record in result:\n",
    "            print(f\"Level {record['Level']}: {record['Count']} nodes\")"
   ],
   "id": "1128c54c1cde631d",
   "outputs": [],
   "execution_count": 14
  },
  {
   "metadata": {
    "ExecuteTime": {
     "end_time": "2024-10-18T02:28:50.293550Z",
     "start_time": "2024-10-18T02:28:50.288021Z"
    }
   },
   "cell_type": "code",
   "source": [
    "# Run the processing function with parallelization\n",
    "def main():\n",
    "    bpmn_dir = './assets'  # Directory containing BPMN XML files\n",
    "    filenames = [f for f in os.listdir(bpmn_dir) if f.endswith('.xml')]\n",
    "\n",
    "    with driver.session(database=\"erpbpmn\") as session:\n",
    "        for filename in filenames:\n",
    "            file_path = os.path.join(bpmn_dir, filename)\n",
    "            if filename == \"BPMN Level 0.xml\":\n",
    "                level = 0\n",
    "                module = \"ERP\"\n",
    "                activity = None\n",
    "            else:\n",
    "                match = re.match(r'BPMN\\s+(.+)\\s+Level\\s+(\\d+)(?:\\s+-\\s+(.+))?\\.xml', filename)\n",
    "                if match:\n",
    "                    module = match.group(1)\n",
    "                    level = int(match.group(2))\n",
    "                    activity = match.group(3) if match.group(3) else None\n",
    "                else:\n",
    "                    print(f\"Skipping file {filename} as it doesn't match the expected naming pattern.\")\n",
    "                    continue\n",
    "            \n",
    "            process_bpmn_file(session, filename, file_path, level, module, activity)"
   ],
   "id": "ebecee9ea846390",
   "outputs": [],
   "execution_count": 15
  },
  {
   "metadata": {},
   "cell_type": "markdown",
   "source": "# 9. Execute Main Function",
   "id": "652a931d76af4a34"
  },
  {
   "metadata": {
    "ExecuteTime": {
     "end_time": "2024-10-18T02:29:18.085853Z",
     "start_time": "2024-10-18T02:29:15.421419Z"
    }
   },
   "cell_type": "code",
   "source": [
    "def run():\n",
    "    main()\n",
    "    verify_data_import()\n",
    "    driver.close()\n",
    "\n",
    "if __name__ == \"__main__\":\n",
    "    run()"
   ],
   "id": "64e16ec2f92456be",
   "outputs": [
    {
     "name": "stdout",
     "output_type": "stream",
     "text": [
      "\n",
      "Processing BPMN Account Payable Level 1.xml at Level 1...\n",
      "Parsed 3 elements and 2 flows from BPMN Account Payable Level 1.xml\n",
      "Renamed StartEvent 1_4 to Start\n",
      "Renamed EndEvent 1_8 to End\n"
     ]
    },
    {
     "name": "stderr",
     "output_type": "stream",
     "text": [
      "C:\\Users\\ASUS\\AppData\\Local\\Temp\\ipykernel_1520\\863548484.py:60: DeprecationWarning: write_transaction has been renamed to execute_write\n",
      "  session.write_transaction(create_node, element_type, element)\n"
     ]
    },
    {
     "name": "stdout",
     "output_type": "stream",
     "text": [
      "Created node: Task with ID 1_6 and name Account Payable\n",
      "Created node: StartEvent with ID 1_4 and name Start\n",
      "Created node: EndEvent with ID 1_8 and name End\n"
     ]
    },
    {
     "name": "stderr",
     "output_type": "stream",
     "text": [
      "C:\\Users\\ASUS\\AppData\\Local\\Temp\\ipykernel_1520\\863548484.py:72: DeprecationWarning: write_transaction has been renamed to execute_write\n",
      "  rel_created = session.write_transaction(\n"
     ]
    },
    {
     "name": "stdout",
     "output_type": "stream",
     "text": [
      "Created SEQUENCE_FLOW relationship from 1_6 to 1_8\n",
      "Created SEQUENCE_FLOW relationship from 1_4 to 1_6\n",
      "\n",
      "Processing BPMN Account Payable Level 2.xml at Level 2...\n",
      "Parsed 34 elements and 38 flows from BPMN Account Payable Level 2.xml\n",
      "Identified 9 unnamed nodes to remove at Level 2\n",
      "Warning: Could not create relationship SEQUENCE_FLOW between 2_80 and 2_16. One of the nodes may not exist.\n",
      "Created SEQUENCE_FLOW relationship from 2_80 to 2_16 bypassing 2_13\n",
      "Warning: Could not create relationship SEQUENCE_FLOW between 2_80 and 2_25. One of the nodes may not exist.\n",
      "Created SEQUENCE_FLOW relationship from 2_80 to 2_25 bypassing 2_13\n",
      "Removed unnamed node 2_13 and its associated flows\n",
      "Removed unnamed node 2_16 and its associated flows\n",
      "Removed unnamed node 2_17 and its associated flows\n",
      "Removed unnamed node 2_19 and its associated flows\n",
      "Warning: Could not create relationship SEQUENCE_FLOW between 2_80 and 2_44. One of the nodes may not exist.\n",
      "Created SEQUENCE_FLOW relationship from 2_80 to 2_44 bypassing 2_41\n",
      "Warning: Could not create relationship SEQUENCE_FLOW between 2_80 and 2_45. One of the nodes may not exist.\n",
      "Created SEQUENCE_FLOW relationship from 2_80 to 2_45 bypassing 2_41\n",
      "Removed unnamed node 2_41 and its associated flows\n",
      "Removed unnamed node 2_44 and its associated flows\n",
      "Warning: Could not create relationship SEQUENCE_FLOW between 2_54 and 2_77. One of the nodes may not exist.\n",
      "Created SEQUENCE_FLOW relationship from 2_54 to 2_77 bypassing 2_59\n",
      "Removed unnamed node 2_59 and its associated flows\n",
      "Warning: Could not create relationship SEQUENCE_FLOW between 2_66 and 2_71. One of the nodes may not exist.\n",
      "Created SEQUENCE_FLOW relationship from 2_66 to 2_71 bypassing 2_72\n",
      "Removed unnamed node 2_72 and its associated flows\n",
      "Removed unnamed node 2_80 and its associated flows\n",
      "Created node: Task with ID 2_25 and name Reviewing Purchase Return\n",
      "Created node: Task with ID 2_26 and name Approving Purchase Return\n",
      "Created node: Task with ID 2_27 and name Checking Purchase Invoice Detail\n",
      "Created node: Task with ID 2_29 and name Updating Data Purchase Invoice\n",
      "Created node: Task with ID 2_30 and name Finalizing Document\n",
      "Created node: Task with ID 2_31 and name Reviewing Purchase Return\n",
      "Created node: Task with ID 2_32 and name Checking Purchase Invoice Detail\n",
      "Created node: Task with ID 2_33 and name Approving Purchase Return\n",
      "Created node: Task with ID 2_34 and name Updating Data Purchase Invoice\n",
      "Created node: Task with ID 2_42 and name Completing Purchase Invoice Form\n",
      "Created node: Task with ID 2_45 and name Receiving Purchase Order\n",
      "Created node: Task with ID 2_47 and name Receiving Purchase Order Down Payment\n",
      "Created node: Task with ID 2_49 and name Checking Goods for Return or Acceptance\n",
      "Created node: Task with ID 2_51 and name Checking Goods for Return or Acceptance\n",
      "Created node: Task with ID 2_56 and name Processing Purchase Return\n",
      "Created node: Task with ID 2_63 and name Validating Invoice Details\n",
      "Created node: Task with ID 2_64 and name Completing Purchase DP Invoice Form\n"
     ]
    },
    {
     "name": "stderr",
     "output_type": "stream",
     "text": [
      "C:\\Users\\ASUS\\AppData\\Local\\Temp\\ipykernel_1520\\863548484.py:46: DeprecationWarning: write_transaction has been renamed to execute_write\n",
      "  session.write_transaction(create_relationship_with_id, in_flow['sourceRef'], out_flow['targetRef'], new_rel_type, new_rel_properties)\n"
     ]
    },
    {
     "name": "stdout",
     "output_type": "stream",
     "text": [
      "Created node: Task with ID 2_67 and name Processing Purchase DP Return\n",
      "Created node: Task with ID 2_71 and name Creating the Purchase DP Invoice\n",
      "Created node: Task with ID 2_75 and name Validating Invoice DP Details\n",
      "Created node: Task with ID 2_77 and name Creating the Purchase Invoice\n",
      "Created node: StartEvent with ID 2_79 and name Start\n",
      "Created node: EndEvent with ID 2_23 and name End\n",
      "Created node: Gateway with ID 2_54 and name Goods Accepted?\n",
      "Created node: Gateway with ID 2_66 and name Goods Accepted?\n",
      "Created SEQUENCE_FLOW relationship from 2_64 to 2_32\n",
      "Created SEQUENCE_FLOW relationship from 2_67 to 2_31\n",
      "Created SEQUENCE_FLOW relationship from 2_56 to 2_25\n",
      "Created SEQUENCE_FLOW relationship from 2_42 to 2_27\n",
      "Warning: Could not create relationship SEQUENCE_FLOW between 2_None and 2_29. One of the nodes may not exist.\n",
      "Failed to create SEQUENCE_FLOW relationship from 2_None to 2_29\n",
      "Created SEQUENCE_FLOW relationship from 2_25 to 2_26\n",
      "Created SEQUENCE_FLOW relationship from 2_29 to 2_30\n",
      "Created SEQUENCE_FLOW relationship from 2_26 to 2_30\n",
      "Created SEQUENCE_FLOW relationship from 2_33 to 2_30\n",
      "Created SEQUENCE_FLOW relationship from 2_34 to 2_30\n",
      "Created SEQUENCE_FLOW relationship from 2_30 to 2_23\n",
      "Created SEQUENCE_FLOW relationship from 2_49 to 2_66\n",
      "Created SEQUENCE_FLOW relationship from 2_47 to 2_49\n",
      "Created SEQUENCE_FLOW relationship from 2_45 to 2_51\n",
      "Created SEQUENCE_FLOW relationship from 2_51 to 2_54\n",
      "Created SEQUENCE_FLOW relationship from 2_54 to 2_56\n",
      "Created SEQUENCE_FLOW relationship from 2_63 to 2_42\n",
      "Created SEQUENCE_FLOW relationship from 2_66 to 2_67\n",
      "Created SEQUENCE_FLOW relationship from 2_71 to 2_75\n",
      "Created SEQUENCE_FLOW relationship from 2_77 to 2_63\n",
      "Created SEQUENCE_FLOW relationship from 2_75 to 2_64\n",
      "\n",
      "Processing BPMN Account Payable Level 3 - Creating the Purchase DP Invoice.xml at Level 3...\n",
      "Parsed 11 elements and 17 flows from BPMN Account Payable Level 3 - Creating the Purchase DP Invoice.xml\n",
      "Identified 2 unnamed nodes to remove at Level 3\n",
      "Warning: Could not create relationship SEQUENCE_FLOW between 3_11 and 3_16. One of the nodes may not exist.\n",
      "Created SEQUENCE_FLOW relationship from 3_11 to 3_16 bypassing 3_17\n",
      "Removed unnamed node 3_17 and its associated flows\n",
      "Warning: Could not create relationship SEQUENCE_FLOW between 3_14 and 3_35. One of the nodes may not exist.\n",
      "Created SEQUENCE_FLOW relationship from 3_14 to 3_35 bypassing 3_36\n",
      "Warning: Could not create relationship SEQUENCE_FLOW between 3_30 and 3_35. One of the nodes may not exist.\n",
      "Created SEQUENCE_FLOW relationship from 3_30 to 3_35 bypassing 3_36\n",
      "Removed unnamed node 3_36 and its associated flows\n",
      "Created node: Task with ID 3_5 and name Receive Purchase Order Down Payment\n",
      "Created node: Task with ID 3_6 and name Check Goods for Acceptance\n",
      "Created node: Task with ID 3_14 and name Process Purchase DP Return\n",
      "Created node: Task with ID 3_16 and name Create Purchase DP Invoice\n",
      "Created node: Task with ID 3_29 and name Validate Invoice DP Details\n",
      "Created node: Task with ID 3_30 and name Complete Purchase DP Invoice Form\n",
      "Created node: StartEvent with ID 3_4 and name Start\n",
      "Created node: EndEvent with ID 3_35 and name End\n",
      "Created node: Gateway with ID 3_11 and name Goods Accepted?\n",
      "Created SEQUENCE_FLOW relationship from 3_4 to 3_5\n",
      "Created SEQUENCE_FLOW relationship from 3_5 to 3_6\n",
      "Created SEQUENCE_FLOW relationship from 3_11 to 3_14\n",
      "Created SEQUENCE_FLOW relationship from 3_6 to 3_11\n",
      "Created SEQUENCE_FLOW relationship from 3_16 to 3_29\n",
      "Warning: Could not create relationship SEQUENCE_FLOW between 3_22 and 3_5. One of the nodes may not exist.\n",
      "Failed to create SEQUENCE_FLOW relationship from 3_22 to 3_5\n",
      "Warning: Could not create relationship SEQUENCE_FLOW between 3_21 and 3_22. One of the nodes may not exist.\n",
      "Failed to create SEQUENCE_FLOW relationship from 3_21 to 3_22\n",
      "Warning: Could not create relationship SEQUENCE_FLOW between 3_26 and 3_6. One of the nodes may not exist.\n",
      "Failed to create SEQUENCE_FLOW relationship from 3_26 to 3_6\n",
      "Warning: Could not create relationship SEQUENCE_FLOW between 3_24 and 3_26. One of the nodes may not exist.\n",
      "Failed to create SEQUENCE_FLOW relationship from 3_24 to 3_26\n",
      "Created SEQUENCE_FLOW relationship from 3_29 to 3_30\n",
      "Warning: Could not create relationship SEQUENCE_FLOW between 3_32 and 3_34. One of the nodes may not exist.\n",
      "Failed to create SEQUENCE_FLOW relationship from 3_32 to 3_34\n",
      "Warning: Could not create relationship SEQUENCE_FLOW between 3_30 and 3_32. One of the nodes may not exist.\n",
      "Failed to create SEQUENCE_FLOW relationship from 3_30 to 3_32\n",
      "\n",
      "Processing BPMN Account Payable Level 3 - Finalizing Purchase DP Invoice Document.xml at Level 3...\n",
      "Parsed 5 elements and 8 flows from BPMN Account Payable Level 3 - Finalizing Purchase DP Invoice Document.xml\n",
      "Created node: Task with ID 3_5 and name Retrieve DP Invoice Data\n",
      "Created node: Task with ID 3_7 and name Verify Data Accuracy\n",
      "Created node: Task with ID 3_17 and name Complete DP Invoice Document\n",
      "Created node: StartEvent with ID 3_4 and name Start\n",
      "Created node: EndEvent with ID 3_15 and name End\n",
      "Created SEQUENCE_FLOW relationship from 3_4 to 3_5\n",
      "Created SEQUENCE_FLOW relationship from 3_7 to 3_17\n",
      "Warning: Could not create relationship SEQUENCE_FLOW between 3_10 and 3_5. One of the nodes may not exist.\n",
      "Failed to create SEQUENCE_FLOW relationship from 3_10 to 3_5\n",
      "Warning: Could not create relationship SEQUENCE_FLOW between 3_9 and 3_10. One of the nodes may not exist.\n",
      "Failed to create SEQUENCE_FLOW relationship from 3_9 to 3_10\n",
      "Warning: Could not create relationship SEQUENCE_FLOW between 3_13 and 3_14. One of the nodes may not exist.\n",
      "Failed to create SEQUENCE_FLOW relationship from 3_13 to 3_14\n",
      "Created SEQUENCE_FLOW relationship from 3_5 to 3_7\n",
      "Created SEQUENCE_FLOW relationship from 3_17 to 3_15\n",
      "Warning: Could not create relationship SEQUENCE_FLOW between 3_17 and 3_13. One of the nodes may not exist.\n",
      "Failed to create SEQUENCE_FLOW relationship from 3_17 to 3_13\n",
      "\n",
      "Processing BPMN Account Payable Level 3 - Reviewing Purchase DP Invoice.xml at Level 3...\n",
      "Parsed 9 elements and 13 flows from BPMN Account Payable Level 3 - Reviewing Purchase DP Invoice.xml\n",
      "Identified 2 unnamed nodes to remove at Level 3\n",
      "Warning: Could not create relationship SEQUENCE_FLOW between 3_19 and 3_23. One of the nodes may not exist.\n",
      "Created SEQUENCE_FLOW relationship from 3_19 to 3_23 bypassing 3_20\n",
      "Removed unnamed node 3_20 and its associated flows\n",
      "Created SEQUENCE_FLOW relationship from 3_6 to 3_14 bypassing 3_28\n",
      "Warning: Could not create relationship SEQUENCE_FLOW between 3_23 and 3_14. One of the nodes may not exist.\n",
      "Created SEQUENCE_FLOW relationship from 3_23 to 3_14 bypassing 3_28\n",
      "Removed unnamed node 3_28 and its associated flows\n",
      "Created node: Task with ID 3_5 and name Receive Purchase DP Invoice\n",
      "Created node: Task with ID 3_6 and name Return for Correction\n",
      "Created node: Task with ID 3_16 and name Check Invoice Details\n",
      "Created node: Task with ID 3_23 and name Approve Purchase DP Invoice\n",
      "Created node: StartEvent with ID 3_4 and name Start\n",
      "Created node: EndEvent with ID 3_14 and name End\n",
      "Created node: Gateway with ID 3_19 and name Details Correct?\n",
      "Created SEQUENCE_FLOW relationship from 3_4 to 3_5\n",
      "Warning: Could not create relationship SEQUENCE_FLOW between 3_9 and 3_5. One of the nodes may not exist.\n",
      "Failed to create SEQUENCE_FLOW relationship from 3_9 to 3_5\n",
      "Warning: Could not create relationship SEQUENCE_FLOW between 3_8 and 3_9. One of the nodes may not exist.\n",
      "Failed to create SEQUENCE_FLOW relationship from 3_8 to 3_9\n",
      "Warning: Could not create relationship SEQUENCE_FLOW between 3_12 and 3_13. One of the nodes may not exist.\n",
      "Failed to create SEQUENCE_FLOW relationship from 3_12 to 3_13\n",
      "Created SEQUENCE_FLOW relationship from 3_16 to 3_19\n",
      "Created SEQUENCE_FLOW relationship from 3_5 to 3_16\n",
      "Created SEQUENCE_FLOW relationship from 3_19 to 3_6\n",
      "Warning: Could not create relationship SEQUENCE_FLOW between 3_23 and 3_12. One of the nodes may not exist.\n",
      "Failed to create SEQUENCE_FLOW relationship from 3_23 to 3_12\n",
      "\n",
      "Processing BPMN Account Payable Level 3 - Updating Purchase DP Invoice Data.xml at Level 3...\n",
      "Parsed 4 elements and 7 flows from BPMN Account Payable Level 3 - Updating Purchase DP Invoice Data.xml\n",
      "Created node: Task with ID 3_5 and name Review Purchase DP Invoice\n",
      "Created node: Task with ID 3_7 and name Update DP Invoice Data\n",
      "Created node: StartEvent with ID 3_4 and name Start\n",
      "Created node: EndEvent with ID 3_15 and name End\n",
      "Created SEQUENCE_FLOW relationship from 3_4 to 3_5\n",
      "Warning: Could not create relationship SEQUENCE_FLOW between 3_7 and 3_13. One of the nodes may not exist.\n",
      "Failed to create SEQUENCE_FLOW relationship from 3_7 to 3_13\n",
      "Warning: Could not create relationship SEQUENCE_FLOW between 3_10 and 3_5. One of the nodes may not exist.\n",
      "Failed to create SEQUENCE_FLOW relationship from 3_10 to 3_5\n",
      "Warning: Could not create relationship SEQUENCE_FLOW between 3_9 and 3_10. One of the nodes may not exist.\n",
      "Failed to create SEQUENCE_FLOW relationship from 3_9 to 3_10\n",
      "Warning: Could not create relationship SEQUENCE_FLOW between 3_13 and 3_14. One of the nodes may not exist.\n",
      "Failed to create SEQUENCE_FLOW relationship from 3_13 to 3_14\n",
      "Created SEQUENCE_FLOW relationship from 3_5 to 3_7\n",
      "Created SEQUENCE_FLOW relationship from 3_7 to 3_15\n",
      "\n",
      "Processing BPMN Level 0.xml at Level 0...\n",
      "Parsed 21 elements and 53 flows from BPMN Level 0.xml\n",
      "Created node: Task with ID 0_23 and name HRM\n",
      "Created node: Task with ID 0_24 and name User Management\n",
      "Created node: Task with ID 0_29 and name Inventory\n",
      "Created node: Task with ID 0_31 and name Sales\n",
      "Created node: Task with ID 0_33 and name Purchasing\n",
      "Created node: Task with ID 0_36 and name Scheduling\n",
      "Created node: Task with ID 0_41 and name Manufacturing\n",
      "Created node: Task with ID 0_44 and name Finance\n",
      "Created node: Task with ID 0_45 and name Account Payable\n",
      "Created node: Task with ID 0_48 and name Asset Management\n",
      "Created node: Task with ID 0_55 and name Accounting\n",
      "Created node: Task with ID 0_59 and name Cash bank\n",
      "Created node: Task with ID 0_62 and name Account Receivable\n",
      "Created node: Task with ID 0_63 and name Tax\n",
      "Created node: StartEvent with ID 0_68 and name Start Event\n",
      "Created node: EndEvent with ID 0_82 and name End Event\n",
      "Created node: Gateway with ID 0_25 and name Unnamed_25\n",
      "Created node: Gateway with ID 0_37 and name Unnamed_37\n",
      "Created node: Gateway with ID 0_49 and name Unnamed_49\n",
      "Created node: Gateway with ID 0_70 and name Unnamed_70\n",
      "Created node: Gateway with ID 0_71 and name Unnamed_71\n",
      "Warning: Could not create relationship XOR_SPLIT between 0_None and 0_23. One of the nodes may not exist.\n",
      "Created XOR_SPLIT relationship from 0_None to 0_23\n",
      "Warning: Could not create relationship XOR_SPLIT between 0_None and 0_24. One of the nodes may not exist.\n",
      "Created XOR_SPLIT relationship from 0_None to 0_24\n"
     ]
    },
    {
     "name": "stderr",
     "output_type": "stream",
     "text": [
      "C:\\Users\\ASUS\\AppData\\Local\\Temp\\ipykernel_1520\\1791876467.py:39: DeprecationWarning: write_transaction has been renamed to execute_write\n",
      "  session.write_transaction(create_relationship_with_id, source, target, rel_type, rel_properties)\n"
     ]
    },
    {
     "name": "stdout",
     "output_type": "stream",
     "text": [
      "Created XOR_SPLIT relationship from 0_70 to 0_41\n",
      "Created XOR_SPLIT relationship from 0_70 to 0_36\n",
      "Created XOR_SPLIT relationship from 0_70 to 0_44\n",
      "Created XOR_SPLIT relationship from 0_70 to 0_45\n",
      "Created XOR_SPLIT relationship from 0_70 to 0_62\n",
      "Created XOR_SPLIT relationship from 0_70 to 0_63\n",
      "Created XOR_SPLIT relationship from 0_70 to 0_48\n",
      "Created XOR_SPLIT relationship from 0_70 to 0_55\n",
      "Created XOR_SPLIT relationship from 0_70 to 0_59\n",
      "Created OR_JOIN relationship from 0_59 to 0_82\n",
      "Created OR_JOIN relationship from 0_63 to 0_82\n",
      "Created OR_JOIN relationship from 0_48 to 0_82\n",
      "Created OR_JOIN relationship from 0_36 to 0_82\n",
      "Created OR_JOIN relationship from 0_24 to 0_82\n",
      "Warning: Could not create relationship OR_JOIN between 0_None and 0_82. One of the nodes may not exist.\n",
      "Created OR_JOIN relationship from 0_None to 0_82\n",
      "Created OR_JOIN relationship from 0_23 to 0_82\n",
      "Created OR_JOIN relationship from 0_29 to 0_82\n",
      "Created OR_JOIN relationship from 0_31 to 0_82\n",
      "Created OR_JOIN relationship from 0_33 to 0_82\n",
      "Created OR_JOIN relationship from 0_41 to 0_82\n",
      "Created OR_JOIN relationship from 0_55 to 0_82\n",
      "Created OR_JOIN relationship from 0_44 to 0_82\n",
      "Created OR_JOIN relationship from 0_45 to 0_82\n",
      "Created OR_JOIN relationship from 0_45 to 0_82\n",
      "Created OR_JOIN relationship from 0_62 to 0_82\n",
      "Created SEQUENCE_FLOW relationship from 0_70 to 0_31\n",
      "Created SEQUENCE_FLOW relationship from 0_70 to 0_33\n",
      "Warning: Could not create relationship SEQUENCE_FLOW between 0_None and 0_29. One of the nodes may not exist.\n",
      "Failed to create SEQUENCE_FLOW relationship from 0_None to 0_29\n",
      "Created SEQUENCE_FLOW relationship from 0_23 to 0_55\n",
      "Created SEQUENCE_FLOW relationship from 0_63 to 0_31\n",
      "Created SEQUENCE_FLOW relationship from 0_31 to 0_62\n",
      "Created SEQUENCE_FLOW relationship from 0_23 to 0_44\n",
      "Created SEQUENCE_FLOW relationship from 0_63 to 0_33\n",
      "Created SEQUENCE_FLOW relationship from 0_23 to 0_41\n",
      "Created SEQUENCE_FLOW relationship from 0_48 to 0_41\n",
      "Created SEQUENCE_FLOW relationship from 0_41 to 0_36\n",
      "Created SEQUENCE_FLOW relationship from 0_45 to 0_59\n",
      "Created SEQUENCE_FLOW relationship from 0_62 to 0_59\n",
      "Created SEQUENCE_FLOW relationship from 0_48 to 0_44\n",
      "Created SEQUENCE_FLOW relationship from 0_48 to 0_55\n",
      "Created SEQUENCE_FLOW relationship from 0_55 to 0_44\n",
      "Created SEQUENCE_FLOW relationship from 0_59 to 0_55\n",
      "Created SEQUENCE_FLOW relationship from 0_31 to 0_29\n",
      "Created SEQUENCE_FLOW relationship from 0_33 to 0_29\n",
      "Created SEQUENCE_FLOW relationship from 0_33 to 0_29\n",
      "Created SEQUENCE_FLOW relationship from 0_41 to 0_55\n",
      "Warning: Could not create relationship SEQUENCE_FLOW between 0_68 and 0_None. One of the nodes may not exist.\n",
      "Failed to create SEQUENCE_FLOW relationship from 0_68 to 0_None\n",
      "Connected Start Event to first task in Level 0\n",
      "Node counts by label:\n",
      "['Task']: 45\n",
      "['Gateway']: 9\n",
      "['EndEvent']: 6\n",
      "['StartEvent']: 4\n",
      "\n",
      "Relationship counts by type:\n",
      "SEQUENCE_FLOW: 57\n",
      "OR_JOIN: 15\n",
      "XOR_SPLIT: 9\n",
      "\n",
      "Node counts by level:\n",
      "Level 0: 21 nodes\n",
      "Level 1: 3 nodes\n",
      "Level 2: 25 nodes\n",
      "Level 3: 15 nodes\n"
     ]
    },
    {
     "name": "stderr",
     "output_type": "stream",
     "text": [
      "C:\\Users\\ASUS\\AppData\\Local\\Temp\\ipykernel_1520\\863548484.py:87: DeprecationWarning: write_transaction has been renamed to execute_write\n",
      "  session.write_transaction(\n"
     ]
    }
   ],
   "execution_count": 16
  }
 ],
 "metadata": {
  "kernelspec": {
   "display_name": "Python 3",
   "language": "python",
   "name": "python3"
  },
  "language_info": {
   "codemirror_mode": {
    "name": "ipython",
    "version": 2
   },
   "file_extension": ".py",
   "mimetype": "text/x-python",
   "name": "python",
   "nbconvert_exporter": "python",
   "pygments_lexer": "ipython2",
   "version": "2.7.6"
  }
 },
 "nbformat": 4,
 "nbformat_minor": 5
}
