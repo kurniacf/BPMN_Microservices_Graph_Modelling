{
 "cells": [
  {
   "metadata": {},
   "cell_type": "markdown",
   "source": "# Leveraging Neo4j for Service Identification and Microservices Partitioning in Business Process Systems",
   "id": "e2578c7706d2182b"
  },
  {
   "metadata": {},
   "cell_type": "markdown",
   "source": "# 1. Install Required Libraries",
   "id": "c5e11652e32c8c49"
  },
  {
   "metadata": {},
   "cell_type": "code",
   "source": "!pip install neo4j torch",
   "id": "b340ee6440d5ba07",
   "outputs": [],
   "execution_count": null
  },
  {
   "metadata": {},
   "cell_type": "markdown",
   "source": "# 2. Import Libraries",
   "id": "28acb4fd215d74fa"
  },
  {
   "metadata": {},
   "cell_type": "markdown",
   "source": "Import all necessary libraries for XML parsing, Neo4j interaction, GPU detection, and concurrent processing.",
   "id": "a0988a15e8183b38"
  },
  {
   "metadata": {
    "ExecuteTime": {
     "end_time": "2024-10-17T12:00:39.881507Z",
     "start_time": "2024-10-17T12:00:39.877323Z"
    }
   },
   "cell_type": "code",
   "source": [
    "# Import Libraries\n",
    "import xml.etree.ElementTree as ET\n",
    "from neo4j import GraphDatabase\n",
    "import os\n",
    "import re\n",
    "import html\n",
    "import torch \n",
    "from concurrent.futures import ThreadPoolExecutor"
   ],
   "id": "7581d31b1ca3fd40",
   "outputs": [],
   "execution_count": 40
  },
  {
   "metadata": {},
   "cell_type": "markdown",
   "source": "# 3. Check CUDA Availability",
   "id": "53b492ec095105f8"
  },
  {
   "metadata": {},
   "cell_type": "markdown",
   "source": "Detect whether CUDA (GPU) is available on your system. This information will be printed at the beginning of the notebook.",
   "id": "72724475b99dae5f"
  },
  {
   "metadata": {
    "ExecuteTime": {
     "end_time": "2024-10-17T12:00:42.171378Z",
     "start_time": "2024-10-17T12:00:42.165682Z"
    }
   },
   "cell_type": "code",
   "source": [
    "print(f\"CUDA available: {torch.cuda.is_available()}\")\n",
    "print(f\"CUDA version: {torch.version.cuda}\")\n",
    "device = torch.device(\"cuda\" if torch.cuda.is_available() else \"cpu\")\n",
    "print(f\"Using device: {device}\")"
   ],
   "id": "b5491fde41e8f0c6",
   "outputs": [
    {
     "name": "stdout",
     "output_type": "stream",
     "text": [
      "CUDA available: True\n",
      "CUDA version: 11.8\n",
      "Using device: cuda\n"
     ]
    }
   ],
   "execution_count": 41
  },
  {
   "metadata": {
    "ExecuteTime": {
     "end_time": "2024-10-17T12:00:43.996808Z",
     "start_time": "2024-10-17T12:00:43.992147Z"
    }
   },
   "cell_type": "code",
   "source": [
    "# Function to check CUDA availability\n",
    "def check_cuda():\n",
    "    if torch.cuda.is_available():\n",
    "        print(\"CUDA is available. GPU will be used if applicable.\")\n",
    "        print(f\"Device Name: {torch.cuda.get_device_name(0)}\")\n",
    "    else:\n",
    "        print(\"CUDA is not available. Using CPU.\")\n",
    "\n",
    "# Execute CUDA check\n",
    "check_cuda()"
   ],
   "id": "c560144260782450",
   "outputs": [
    {
     "name": "stdout",
     "output_type": "stream",
     "text": [
      "CUDA is available. GPU will be used if applicable.\n",
      "Device Name: NVIDIA GeForce RTX 3060 Laptop GPU\n"
     ]
    }
   ],
   "execution_count": 42
  },
  {
   "metadata": {},
   "cell_type": "markdown",
   "source": "# 4. Define Connection to Neo4j",
   "id": "a3bf2fa13e77b950"
  },
  {
   "metadata": {
    "ExecuteTime": {
     "end_time": "2024-10-17T12:00:46.304156Z",
     "start_time": "2024-10-17T12:00:46.299609Z"
    }
   },
   "cell_type": "code",
   "source": [
    "# Neo4j connection details\n",
    "uri = \"bolt://localhost:7687\"\n",
    "username = \"neo4j\"\n",
    "password = \"170202Kcf\"\n",
    "\n",
    "# Create a driver instance\n",
    "driver = GraphDatabase.driver(uri, auth=(username, password))"
   ],
   "id": "a962809099f78c49",
   "outputs": [],
   "execution_count": 43
  },
  {
   "metadata": {
    "ExecuteTime": {
     "end_time": "2024-10-17T12:00:49.792546Z",
     "start_time": "2024-10-17T12:00:47.698362Z"
    }
   },
   "cell_type": "code",
   "source": [
    "def test_connection():\n",
    "    try:\n",
    "        with driver.session(database=\"erpbpmn\") as session:\n",
    "            result = session.run(\"RETURN 1 AS test\")\n",
    "            for record in result:\n",
    "                print(f\"Connection successful, test query result: {record['test']}\")\n",
    "    except Exception as e:\n",
    "        print(f\"Failed to connect to Neo4j: {e}\")\n",
    "\n",
    "test_connection()"
   ],
   "id": "d1cb506333c7161b",
   "outputs": [
    {
     "name": "stdout",
     "output_type": "stream",
     "text": [
      "Connection successful, test query result: 1\n"
     ]
    }
   ],
   "execution_count": 44
  },
  {
   "metadata": {},
   "cell_type": "markdown",
   "source": "# 5. Define Functions to Create Nodes and Relationships",
   "id": "11e6dc5f9451020e"
  },
  {
   "metadata": {
    "ExecuteTime": {
     "end_time": "2024-10-17T12:00:50.750668Z",
     "start_time": "2024-10-17T12:00:50.743393Z"
    }
   },
   "cell_type": "code",
   "source": [
    "# Define functions to create nodes and relationships\n",
    "def create_node(tx, label, properties):\n",
    "    color_map = {\n",
    "        'Task': '#ADD8E6',\n",
    "        'StartEvent': '#90EE90',\n",
    "        'EndEvent': '#FFB6C1',\n",
    "        'ExclusiveGateway': '#FFD700',\n",
    "        'Element': '#FFA07A'\n",
    "    }\n",
    "    color = color_map.get(label, '#D3D3D3')\n",
    "\n",
    "    query = (\n",
    "        f\"MERGE (n:{label} {{id: $properties.id}}) \"\n",
    "        \"SET n += $properties, n.color = $color \"\n",
    "        \"RETURN n\"\n",
    "    )\n",
    "    result = tx.run(query, properties=properties, color=color)\n",
    "    return result.single()[0]\n",
    "\n",
    "def create_relationship_with_id(tx, label1, id1, label2, id2, rel_type, properties):\n",
    "    rel_color_map = {\n",
    "        'SEQUENCE_FLOW': '#A9A9A9',\n",
    "    }\n",
    "    color = rel_color_map.get(rel_type, '#696969')\n",
    "\n",
    "    query = (\n",
    "        f\"MATCH (a:{label1} {{id: $id1}}), (b:{label2} {{id: $id2}}) \"\n",
    "        f\"MERGE (a)-[r:{rel_type} {{id: $properties.id}}]->(b) \"\n",
    "        \"SET r += $properties, r.color = $color \"\n",
    "        \"RETURN r\"\n",
    "    )\n",
    "    result = tx.run(query, id1=id1, id2=id2, properties=properties, color=color)\n",
    "    record = result.single()\n",
    "    if record:\n",
    "        return record[0]\n",
    "    else:\n",
    "        print(f\"Warning: Could not create relationship {rel_type} between {label1}({id1}) and {label2}({id2}). One of the nodes may not exist.\")\n",
    "        return None"
   ],
   "id": "226f7b988831cd17",
   "outputs": [],
   "execution_count": 45
  },
  {
   "metadata": {},
   "cell_type": "markdown",
   "source": "# 6. Parse BPMN XML Files and Load into Neo4j",
   "id": "cb96a7682497999"
  },
  {
   "metadata": {
    "ExecuteTime": {
     "end_time": "2024-10-17T12:01:06.842161Z",
     "start_time": "2024-10-17T12:01:06.837890Z"
    }
   },
   "cell_type": "code",
   "source": [
    "# Define functions to parse BPMN XML files\n",
    "def clean_name(name):\n",
    "    name = re.sub('<[^<]+?>', '', name)\n",
    "    name = html.unescape(name)\n",
    "    return name.strip()"
   ],
   "id": "14ca57c05e4bb658",
   "outputs": [],
   "execution_count": 46
  },
  {
   "metadata": {
    "ExecuteTime": {
     "end_time": "2024-10-17T12:01:16.890354Z",
     "start_time": "2024-10-17T12:01:16.881544Z"
    }
   },
   "cell_type": "code",
   "source": [
    "# Function to parse draw.io BPMN XML files\n",
    "def parse_drawio_bpmn_xml(file_path, level, module, activity=None):\n",
    "    tree = ET.parse(file_path)\n",
    "    root = tree.getroot()\n",
    "\n",
    "    tasks = []\n",
    "    events = []\n",
    "    gateways = []\n",
    "    sequence_flows = []\n",
    "    \n",
    "    namespace = {'mx': 'http://www.mxgraph.com/2006/mxGraphModel'}\n",
    "\n",
    "    for cell in root.findall('.//mxCell'):\n",
    "        style = cell.get('style', '').lower()\n",
    "        cell_id = cell.get('id')\n",
    "        value = clean_name(cell.get('value', ''))\n",
    "        if 'shape=mxgraph.bpmn.task' in style:\n",
    "            tasks.append({'id': f\"{level}_{cell_id}\", 'name': value, 'level': level, 'module': module, 'activity': activity})\n",
    "        elif 'shape=mxgraph.bpmn.event' in style:\n",
    "            if 'outline=end' in style:\n",
    "                events.append({'id': f\"{level}_{cell_id}\", 'name': value, 'type': 'EndEvent', 'level': level, 'module': module, 'activity': activity})\n",
    "            else:\n",
    "                events.append({'id': f\"{level}_{cell_id}\", 'name': value, 'type': 'StartEvent', 'level': level, 'module': module, 'activity': activity})\n",
    "        elif 'shape=mxgraph.bpmn.gateway' in style or 'shape=mxgraph.bpmn.gateway2' in style:\n",
    "            gateways.append({'id': f\"{level}_{cell_id}\", 'name': value, 'type': 'ExclusiveGateway', 'level': level, 'module': module, 'activity': activity})\n",
    "        elif cell.get('edge') == '1':\n",
    "            sequence_flows.append({\n",
    "                'id': f\"{level}_{cell_id}\",\n",
    "                'sourceRef': f\"{level}_{cell.get('source')}\",\n",
    "                'targetRef': f\"{level}_{cell.get('target')}\",\n",
    "                'name': value,\n",
    "                'level': level,\n",
    "                'module': module,\n",
    "                'activity': activity\n",
    "            })\n",
    "\n",
    "    return tasks, events, gateways, sequence_flows, root"
   ],
   "id": "db2b84d26f2487c6",
   "outputs": [],
   "execution_count": 47
  },
  {
   "metadata": {
    "ExecuteTime": {
     "end_time": "2024-10-17T12:01:26.422290Z",
     "start_time": "2024-10-17T12:01:26.415097Z"
    }
   },
   "cell_type": "code",
   "source": [
    "# Helper function to determine the label of an element by its ID\n",
    "def get_element_label_by_id(root, element_id):\n",
    "    try:\n",
    "        level, cell_id = element_id.split('_', 1)\n",
    "    except ValueError:\n",
    "        cell_id = element_id\n",
    "    for cell in root.findall('.//mxCell'):\n",
    "        if cell.get('id') == cell_id:\n",
    "            style = cell.get('style', '').lower()\n",
    "            if 'shape=mxgraph.bpmn.task' in style:\n",
    "                return 'Task'\n",
    "            elif 'shape=mxgraph.bpmn.event' in style:\n",
    "                if 'outline=end' in style:\n",
    "                    return 'EndEvent'\n",
    "                else:\n",
    "                    return 'StartEvent'\n",
    "            elif 'shape=mxgraph.bpmn.gateway' in style or 'shape=mxgraph.bpmn.gateway2' in style:\n",
    "                return 'ExclusiveGateway'\n",
    "            else:\n",
    "                return 'Element'\n",
    "    return 'Element'"
   ],
   "id": "4ebfb83adb0b6fd7",
   "outputs": [],
   "execution_count": 48
  },
  {
   "metadata": {
    "ExecuteTime": {
     "end_time": "2024-10-17T12:01:38.269756Z",
     "start_time": "2024-10-17T12:01:38.258729Z"
    }
   },
   "cell_type": "code",
   "source": [
    "# Main function to process all BPMN files with parallel processing\n",
    "def process_bpmn_file(session, filename, file_path, level, module, activity):\n",
    "    print(f\"\\nProcessing {filename} at Level {level}...\")\n",
    "    tasks, events, gateways, sequence_flows, root = parse_drawio_bpmn_xml(file_path, level, module, activity)\n",
    "\n",
    "    print(f\"Parsed {len(tasks)} tasks, {len(events)} events, {len(gateways)} gateways, {len(sequence_flows)} sequence flows from {filename}\")\n",
    "\n",
    "    for task in tasks:\n",
    "        session.execute_write(create_node, 'Task', task)\n",
    "    for event in events:\n",
    "        session.execute_write(create_node, event['type'], event)\n",
    "    for gateway in gateways:\n",
    "        session.execute_write(create_node, gateway['type'], gateway)\n",
    "\n",
    "    for flow in sequence_flows:\n",
    "        source_id = flow['sourceRef']\n",
    "        target_id = flow['targetRef']\n",
    "        rel_properties = {'id': flow['id'], 'name': flow.get('name'), 'level': level, 'module': module, 'activity': activity}\n",
    "        source_label = get_element_label_by_id(root, source_id)\n",
    "        target_label = get_element_label_by_id(root, target_id)\n",
    "        rel_created = session.execute_write(\n",
    "            create_relationship_with_id,\n",
    "            source_label, source_id, target_label, target_id,\n",
    "            'SEQUENCE_FLOW', rel_properties\n",
    "        )\n",
    "        if rel_created:\n",
    "            print(f\"Created SEQUENCE_FLOW relationship from {source_label}({source_id}) to {target_label}({target_id})\")\n",
    "        else:\n",
    "            print(f\"Failed to create SEQUENCE_FLOW relationship from {source_id} to {target_id}\")"
   ],
   "id": "a6205823754eb057",
   "outputs": [],
   "execution_count": 50
  },
  {
   "metadata": {},
   "cell_type": "markdown",
   "source": "# 7. Main Execution",
   "id": "40aa15937a8c99ec"
  },
  {
   "metadata": {
    "ExecuteTime": {
     "end_time": "2024-10-17T12:06:00.116481Z",
     "start_time": "2024-10-17T12:01:52.546547Z"
    }
   },
   "cell_type": "code",
   "source": [
    "# Run the processing function with parallelization\n",
    "if __name__ == \"__main__\":\n",
    "    check_cuda()\n",
    "    test_connection()\n",
    "    bpmn_dir = './assets'\n",
    "    filenames = [f for f in os.listdir(bpmn_dir) if f.endswith('.xml')]\n",
    "\n",
    "    with driver.session(database=\"erpbpmn\") as session:\n",
    "        with ThreadPoolExecutor(max_workers=4) as executor:\n",
    "            futures = []\n",
    "            for filename in filenames:\n",
    "                file_path = os.path.join(bpmn_dir, filename)\n",
    "                match = re.match(r'BPMN\\s+(.+)\\s+Level\\s+(\\d)(?:\\s+-\\s+(.+))?\\.xml', filename)\n",
    "                if match:\n",
    "                    module = match.group(1)\n",
    "                    level = int(match.group(2))\n",
    "                    activity = match.group(3) if match.group(3) else None\n",
    "                    tree = ET.parse(file_path)\n",
    "                    root = tree.getroot()\n",
    "                    futures.append(executor.submit(process_bpmn_file, session, filename, file_path, level, module, activity))\n",
    "                else:\n",
    "                    print(f\"Skipping file {filename} as it doesn't match the expected naming pattern.\")\n",
    "            \n",
    "            for future in futures:\n",
    "                try:\n",
    "                    future.result()\n",
    "                except Exception as e:\n",
    "                    print(f\"Error processing file: {e}\")\n"
   ],
   "id": "ebecee9ea846390",
   "outputs": [
    {
     "name": "stdout",
     "output_type": "stream",
     "text": [
      "CUDA is available. GPU will be used if applicable.\n",
      "Device Name: NVIDIA GeForce RTX 3060 Laptop GPU\n",
      "Connection successful, test query result: 1\n",
      "\n",
      "Processing BPMN Account Payable Level 1.xml at Level 1...\n",
      "Parsed 1 tasks, 2 events, 0 gateways, 2 sequence flows from BPMN Account Payable Level 1.xml\n",
      "\n",
      "Processing BPMN Account Payable Level 2.xml at Level 2...\n",
      "Parsed 21 tasks, 2 events, 11 gateways, 38 sequence flows from BPMN Account Payable Level 2.xml\n",
      "\n",
      "Processing BPMN Account Payable Level 3 - Creating the Purchase DP Invoice.xml at Level 3...\n",
      "Parsed 6 tasks, 2 events, 3 gateways, 17 sequence flows from BPMN Account Payable Level 3 - Creating the Purchase DP Invoice.xml\n",
      "\n",
      "Processing BPMN Account Payable Level 3 - Finalizing Purchase DP Invoice Document.xml at Level 3...\n",
      "Parsed 3 tasks, 2 events, 0 gateways, 8 sequence flows from BPMN Account Payable Level 3 - Finalizing Purchase DP Invoice Document.xml\n",
      "Skipping file BPMN Level 0.xml as it doesn't match the expected naming pattern.\n",
      "\n",
      "Processing BPMN Account Payable Level 3 - Reviewing Purchase DP Invoice.xml at Level 3...\n",
      "\n",
      "Processing BPMN Account Payable Level 3 - Updating Purchase DP Invoice Data.xml at Level 3...\n",
      "Parsed 4 tasks, 2 events, 3 gateways, 13 sequence flows from BPMN Account Payable Level 3 - Reviewing Purchase DP Invoice.xml\n",
      "Parsed 2 tasks, 2 events, 0 gateways, 7 sequence flows from BPMN Account Payable Level 3 - Updating Purchase DP Invoice Data.xml\n"
     ]
    },
    {
     "name": "stderr",
     "output_type": "stream",
     "text": [
      "Failed to read from defunct connection IPv4Address(('localhost', 7687)) (ResolvedIPv4Address(('127.0.0.1', 7687)))\n",
      "Failed to read from defunct connection IPv4Address(('localhost', 7687)) (ResolvedIPv4Address(('127.0.0.1', 7687)))\n",
      "Transaction failed and will be retried in 1.142172462077642s (Failed to read from defunct connection IPv4Address(('localhost', 7687)) (ResolvedIPv4Address(('127.0.0.1', 7687))))\n",
      "Transaction failed and will be retried in 0.9699964954995002s (Failed to read from defunct connection IPv4Address(('localhost', 7687)) (ResolvedIPv4Address(('127.0.0.1', 7687))))\n"
     ]
    },
    {
     "name": "stdout",
     "output_type": "stream",
     "text": [
      "Error processing file: Existing exports of data: object cannot be re-sized\n",
      "Error processing file: Existing exports of data: object cannot be re-sized\n",
      "Error processing file: Existing exports of data: object cannot be re-sized\n",
      "Error processing file: Existing exports of data: object cannot be re-sized\n"
     ]
    },
    {
     "name": "stderr",
     "output_type": "stream",
     "text": [
      "Failed to read from defunct connection IPv4Address(('localhost', 7687)) (ResolvedIPv4Address(('127.0.0.1', 7687)))\n",
      "Transaction failed and will be retried in 1.002232090523628s (Failed to read from defunct connection IPv4Address(('localhost', 7687)) (ResolvedIPv4Address(('127.0.0.1', 7687))))\n"
     ]
    },
    {
     "name": "stdout",
     "output_type": "stream",
     "text": [
      "Created SEQUENCE_FLOW relationship from StartEvent(3_4) to Task(3_5)\n",
      "Warning: Could not create relationship SEQUENCE_FLOW between Element(3_9) and Task(3_5). One of the nodes may not exist.\n",
      "Failed to create SEQUENCE_FLOW relationship from 3_9 to 3_5\n",
      "Warning: Could not create relationship SEQUENCE_FLOW between Element(3_8) and Element(3_9). One of the nodes may not exist.\n",
      "Failed to create SEQUENCE_FLOW relationship from 3_8 to 3_9\n",
      "Warning: Could not create relationship SEQUENCE_FLOW between Element(3_12) and Element(3_13). One of the nodes may not exist.\n",
      "Failed to create SEQUENCE_FLOW relationship from 3_12 to 3_13\n",
      "Created SEQUENCE_FLOW relationship from Task(3_16) to ExclusiveGateway(3_19)\n",
      "Created SEQUENCE_FLOW relationship from Task(3_5) to Task(3_16)\n",
      "Created SEQUENCE_FLOW relationship from ExclusiveGateway(3_19) to ExclusiveGateway(3_20)\n",
      "Created SEQUENCE_FLOW relationship from ExclusiveGateway(3_19) to Task(3_6)\n",
      "Created SEQUENCE_FLOW relationship from ExclusiveGateway(3_20) to Task(3_23)\n",
      "Warning: Could not create relationship SEQUENCE_FLOW between Task(3_23) and Element(3_12). One of the nodes may not exist.\n",
      "Failed to create SEQUENCE_FLOW relationship from 3_23 to 3_12\n",
      "Created SEQUENCE_FLOW relationship from ExclusiveGateway(3_28) to EndEvent(3_14)\n",
      "Created SEQUENCE_FLOW relationship from Task(3_6) to ExclusiveGateway(3_28)\n",
      "Created SEQUENCE_FLOW relationship from Task(3_23) to ExclusiveGateway(3_28)\n",
      "Error processing file: Expected structure, found marker 66\n"
     ]
    }
   ],
   "execution_count": 51
  },
  {
   "metadata": {},
   "cell_type": "markdown",
   "source": "# 8. Verification query",
   "id": "9c7833d57462eea4"
  },
  {
   "metadata": {
    "ExecuteTime": {
     "end_time": "2024-10-17T12:21:32.598418Z",
     "start_time": "2024-10-17T12:21:32.069696Z"
    }
   },
   "cell_type": "code",
   "source": [
    "def verify_data_import():\n",
    "    with driver.session(database=\"erpbpmn\") as session:\n",
    "        result = session.run(\"MATCH (n) RETURN labels(n) AS Label, count(n) AS Count ORDER BY Count DESC\")\n",
    "        print(\"Node counts by label:\")\n",
    "        for record in result:\n",
    "            print(f\"{record['Label']}: {record['Count']}\")\n",
    "        \n",
    "        result = session.run(\"MATCH ()-[r]->() RETURN type(r) AS RelationType, count(r) AS Count ORDER BY Count DESC\")\n",
    "        print(\"\\nRelationship counts by type:\")\n",
    "        for record in result:\n",
    "            print(f\"{record['RelationType']}: {record['Count']}\")\n",
    "\n",
    "verify_data_import()"
   ],
   "id": "1086fd13d74f9de3",
   "outputs": [
    {
     "name": "stdout",
     "output_type": "stream",
     "text": [
      "Node counts by label:\n",
      "['Task']: 5\n",
      "['ExclusiveGateway']: 3\n",
      "['StartEvent']: 2\n",
      "['EndEvent']: 2\n",
      "\n",
      "Relationship counts by type:\n",
      "SEQUENCE_FLOW: 10\n"
     ]
    }
   ],
   "execution_count": 52
  }
 ],
 "metadata": {
  "kernelspec": {
   "display_name": "Python 3",
   "language": "python",
   "name": "python3"
  },
  "language_info": {
   "codemirror_mode": {
    "name": "ipython",
    "version": 2
   },
   "file_extension": ".py",
   "mimetype": "text/x-python",
   "name": "python",
   "nbconvert_exporter": "python",
   "pygments_lexer": "ipython2",
   "version": "2.7.6"
  }
 },
 "nbformat": 4,
 "nbformat_minor": 5
}
